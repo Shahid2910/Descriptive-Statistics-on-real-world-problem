{
 "cells": [
  {
   "cell_type": "markdown",
   "id": "41e0fc4b",
   "metadata": {},
   "source": [
    "### Statistics Mini Project"
   ]
  },
  {
   "cell_type": "markdown",
   "id": "a3406a67",
   "metadata": {},
   "source": [
    "### 1. Perform the following statistical analysis on the fifa world cup dataset. The dataset consists of player information, which includes height; weight overall rating, potential etc. Data Cleaning and basic EDA process needs to be performed. \n"
   ]
  },
  {
   "cell_type": "code",
   "execution_count": 157,
   "id": "c3cf3152",
   "metadata": {},
   "outputs": [],
   "source": [
    "import numpy as np\n",
    "import pandas as pd\n",
    "import scipy.stats as stats\n",
    "import seaborn as sns"
   ]
  },
  {
   "cell_type": "code",
   "execution_count": 158,
   "id": "d4d93849",
   "metadata": {},
   "outputs": [
    {
     "data": {
      "text/html": [
       "<div>\n",
       "<style scoped>\n",
       "    .dataframe tbody tr th:only-of-type {\n",
       "        vertical-align: middle;\n",
       "    }\n",
       "\n",
       "    .dataframe tbody tr th {\n",
       "        vertical-align: top;\n",
       "    }\n",
       "\n",
       "    .dataframe thead th {\n",
       "        text-align: right;\n",
       "    }\n",
       "</style>\n",
       "<table border=\"1\" class=\"dataframe\">\n",
       "  <thead>\n",
       "    <tr style=\"text-align: right;\">\n",
       "      <th></th>\n",
       "      <th>Name</th>\n",
       "      <th>Age</th>\n",
       "      <th>Nationality</th>\n",
       "      <th>Overall_rating</th>\n",
       "      <th>Potential</th>\n",
       "      <th>Club</th>\n",
       "      <th>Preferred Foot</th>\n",
       "      <th>International Reputation</th>\n",
       "      <th>Weak Foot</th>\n",
       "      <th>Skill Moves</th>\n",
       "      <th>Work Rate</th>\n",
       "      <th>Position</th>\n",
       "      <th>Jersey Number</th>\n",
       "      <th>Height</th>\n",
       "      <th>Weight</th>\n",
       "    </tr>\n",
       "  </thead>\n",
       "  <tbody>\n",
       "    <tr>\n",
       "      <th>0</th>\n",
       "      <td>L. Messi</td>\n",
       "      <td>31</td>\n",
       "      <td>Argentina</td>\n",
       "      <td>94</td>\n",
       "      <td>94</td>\n",
       "      <td>FC Barcelona</td>\n",
       "      <td>Left</td>\n",
       "      <td>5</td>\n",
       "      <td>4</td>\n",
       "      <td>4</td>\n",
       "      <td>Medium/ Medium</td>\n",
       "      <td>RF</td>\n",
       "      <td>10</td>\n",
       "      <td>5.583333</td>\n",
       "      <td>159</td>\n",
       "    </tr>\n",
       "    <tr>\n",
       "      <th>1</th>\n",
       "      <td>Cristiano Ronaldo</td>\n",
       "      <td>33</td>\n",
       "      <td>Portugal</td>\n",
       "      <td>94</td>\n",
       "      <td>94</td>\n",
       "      <td>Juventus</td>\n",
       "      <td>Right</td>\n",
       "      <td>5</td>\n",
       "      <td>4</td>\n",
       "      <td>5</td>\n",
       "      <td>High/ Low</td>\n",
       "      <td>ST</td>\n",
       "      <td>7</td>\n",
       "      <td>6.166667</td>\n",
       "      <td>183</td>\n",
       "    </tr>\n",
       "    <tr>\n",
       "      <th>2</th>\n",
       "      <td>Neymar Jr</td>\n",
       "      <td>26</td>\n",
       "      <td>Brazil</td>\n",
       "      <td>92</td>\n",
       "      <td>93</td>\n",
       "      <td>Paris Saint-Germain</td>\n",
       "      <td>Right</td>\n",
       "      <td>5</td>\n",
       "      <td>5</td>\n",
       "      <td>5</td>\n",
       "      <td>High/ Medium</td>\n",
       "      <td>LW</td>\n",
       "      <td>10</td>\n",
       "      <td>5.750000</td>\n",
       "      <td>150</td>\n",
       "    </tr>\n",
       "    <tr>\n",
       "      <th>3</th>\n",
       "      <td>De Gea</td>\n",
       "      <td>27</td>\n",
       "      <td>Spain</td>\n",
       "      <td>91</td>\n",
       "      <td>93</td>\n",
       "      <td>Manchester United</td>\n",
       "      <td>Right</td>\n",
       "      <td>4</td>\n",
       "      <td>3</td>\n",
       "      <td>1</td>\n",
       "      <td>Medium/ Medium</td>\n",
       "      <td>GK</td>\n",
       "      <td>1</td>\n",
       "      <td>6.333333</td>\n",
       "      <td>168</td>\n",
       "    </tr>\n",
       "    <tr>\n",
       "      <th>4</th>\n",
       "      <td>K. De Bruyne</td>\n",
       "      <td>27</td>\n",
       "      <td>Belgium</td>\n",
       "      <td>91</td>\n",
       "      <td>92</td>\n",
       "      <td>Manchester City</td>\n",
       "      <td>Right</td>\n",
       "      <td>4</td>\n",
       "      <td>5</td>\n",
       "      <td>4</td>\n",
       "      <td>High/ High</td>\n",
       "      <td>RCM</td>\n",
       "      <td>7</td>\n",
       "      <td>5.083333</td>\n",
       "      <td>154</td>\n",
       "    </tr>\n",
       "  </tbody>\n",
       "</table>\n",
       "</div>"
      ],
      "text/plain": [
       "                Name  Age Nationality  Overall_rating  Potential  \\\n",
       "0           L. Messi   31   Argentina              94         94   \n",
       "1  Cristiano Ronaldo   33    Portugal              94         94   \n",
       "2          Neymar Jr   26      Brazil              92         93   \n",
       "3             De Gea   27       Spain              91         93   \n",
       "4       K. De Bruyne   27     Belgium              91         92   \n",
       "\n",
       "                  Club Preferred Foot  International Reputation  Weak Foot  \\\n",
       "0         FC Barcelona           Left                         5          4   \n",
       "1             Juventus          Right                         5          4   \n",
       "2  Paris Saint-Germain          Right                         5          5   \n",
       "3    Manchester United          Right                         4          3   \n",
       "4      Manchester City          Right                         4          5   \n",
       "\n",
       "   Skill Moves       Work Rate Position  Jersey Number    Height  Weight  \n",
       "0            4  Medium/ Medium       RF             10  5.583333     159  \n",
       "1            5       High/ Low       ST              7  6.166667     183  \n",
       "2            5    High/ Medium       LW             10  5.750000     150  \n",
       "3            1  Medium/ Medium       GK              1  6.333333     168  \n",
       "4            4      High/ High      RCM              7  5.083333     154  "
      ]
     },
     "execution_count": 158,
     "metadata": {},
     "output_type": "execute_result"
    }
   ],
   "source": [
    "df=pd.read_csv(\"fifa_stats.csv\")\n",
    "df.head()"
   ]
  },
  {
   "cell_type": "markdown",
   "id": "a9418266",
   "metadata": {},
   "source": [
    "#### a)\tAssuming age as population, perform the central limit theorem with sample size of 200. Find the standard error and the mean of sampling distribution. Compare the results with population mean and standard deviation. Explain in non-technical terms why the estimated standard error of a sample mean tends to decrease with an increase in sample size"
   ]
  },
  {
   "cell_type": "code",
   "execution_count": 36,
   "id": "7541284c",
   "metadata": {},
   "outputs": [
    {
     "name": "stdout",
     "output_type": "stream",
     "text": [
      "27.2315\n",
      "3.8580963894127795\n"
     ]
    }
   ],
   "source": [
    "n=200\n",
    "pop=df[\"Age\"]\n",
    "mu_pop=np.mean(pop)\n",
    "print(pop_mean)\n",
    "std_pop=np.std(pop)\n",
    "print(std_pop)"
   ]
  },
  {
   "cell_type": "code",
   "execution_count": 33,
   "id": "4b6cb560",
   "metadata": {},
   "outputs": [
    {
     "data": {
      "text/plain": [
       "3.8590612753574423"
      ]
     },
     "execution_count": 33,
     "metadata": {},
     "output_type": "execute_result"
    }
   ],
   "source": [
    "std_samp=np.std(pop,ddof=1)\n",
    "std_samp"
   ]
  },
  {
   "cell_type": "code",
   "execution_count": 24,
   "id": "dd512d80",
   "metadata": {},
   "outputs": [
    {
     "data": {
      "text/plain": [
       "0.2728086119425111"
      ]
     },
     "execution_count": 24,
     "metadata": {},
     "output_type": "execute_result"
    }
   ],
   "source": [
    "std_error=std_pop/np.sqrt(n)\n",
    "std_error"
   ]
  },
  {
   "cell_type": "code",
   "execution_count": 20,
   "id": "7b90fa8a",
   "metadata": {},
   "outputs": [
    {
     "data": {
      "text/plain": [
       "27.2315"
      ]
     },
     "execution_count": 20,
     "metadata": {},
     "output_type": "execute_result"
    }
   ],
   "source": [
    "mu_pop  # beacause the properties of central limit theoram says when sample size keep increases the sampling distribution tends\n",
    "        #to normal distribution so the mean of sampling distribution is equal to mu."
   ]
  },
  {
   "cell_type": "code",
   "execution_count": 1,
   "id": "0a78dcbe",
   "metadata": {},
   "outputs": [],
   "source": [
    "# due to central limit theoram estimated standard error of a sample mean tends to decrease with an increase in sample size."
   ]
  },
  {
   "cell_type": "markdown",
   "id": "d482b9d4",
   "metadata": {},
   "source": [
    "#### b)\tIs there any evidence that the players overall rating is greater than 80?"
   ]
  },
  {
   "cell_type": "code",
   "execution_count": 2,
   "id": "2d540542",
   "metadata": {},
   "outputs": [],
   "source": [
    "# Ho:Overall_rating=80\n",
    "# Ho:Overall_rating!=80"
   ]
  },
  {
   "cell_type": "code",
   "execution_count": 9,
   "id": "55ed5427",
   "metadata": {},
   "outputs": [
    {
     "data": {
      "text/plain": [
       "-24.544597415236936"
      ]
     },
     "execution_count": 9,
     "metadata": {},
     "output_type": "execute_result"
    }
   ],
   "source": [
    "samp=df[\"Overall_rating\"]\n",
    "mu=80\n",
    "x_bar=np.mean(samp)\n",
    "s=np.std(samp)\n",
    "n=len(samp)\n",
    "tstat=(x_bar-mu)/(s/np.sqrt(n))\n",
    "tstat"
   ]
  },
  {
   "cell_type": "code",
   "execution_count": 47,
   "id": "74b67503",
   "metadata": {},
   "outputs": [
    {
     "data": {
      "text/plain": [
       "1.6789997419549865e-116"
      ]
     },
     "execution_count": 47,
     "metadata": {},
     "output_type": "execute_result"
    }
   ],
   "source": [
    "pval=stats.t.sf(abs(tstat),df=n-1)*2\n",
    "pval"
   ]
  },
  {
   "cell_type": "code",
   "execution_count": 130,
   "id": "b64d89f7",
   "metadata": {},
   "outputs": [
    {
     "data": {
      "text/plain": [
       "Ttest_1sampResult(statistic=-24.538460498672062, pvalue=1.885376780327322e-116)"
      ]
     },
     "execution_count": 130,
     "metadata": {},
     "output_type": "execute_result"
    }
   ],
   "source": [
    "stats.ttest_1samp(samp, popmean=80)"
   ]
  },
  {
   "cell_type": "code",
   "execution_count": 11,
   "id": "c9bbe94a",
   "metadata": {},
   "outputs": [],
   "source": [
    "# pval=0\n",
    "# sig lvl=0.05\n",
    "# pval<sig lvl\n",
    "# Ho is rejected and Ha is selected\n",
    "# tests= -ve\n",
    "# so there is no evidence that overall players ratings is greater than 80. "
   ]
  },
  {
   "cell_type": "markdown",
   "id": "c11a9b9e",
   "metadata": {},
   "source": [
    "#### c)\tPerform the statistical test to identify whether preferred foot has any impact on potential. Also, perform the graphical analysis.\n"
   ]
  },
  {
   "cell_type": "code",
   "execution_count": 39,
   "id": "922278d5",
   "metadata": {},
   "outputs": [
    {
     "data": {
      "text/plain": [
       "Right    1534\n",
       "Left      466\n",
       "Name: Preferred Foot, dtype: int64"
      ]
     },
     "execution_count": 39,
     "metadata": {},
     "output_type": "execute_result"
    }
   ],
   "source": [
    "df[\"Preferred Foot\"].value_counts()"
   ]
  },
  {
   "cell_type": "code",
   "execution_count": 31,
   "id": "fbf62b1f",
   "metadata": {},
   "outputs": [],
   "source": [
    "pref_R=df[df[\"Preferred Foot\"]==\"Right\"][\"Potential\"]\n",
    "pref_L=df[df[\"Preferred Foot\"]==\"Left\"][\"Potential\"]"
   ]
  },
  {
   "cell_type": "code",
   "execution_count": 18,
   "id": "b15e84eb",
   "metadata": {},
   "outputs": [],
   "source": [
    "# Ho: mu1=mu2(no relation or mo effact)\n",
    "# Ha: mu1!=mu2( relation or  effact)"
   ]
  },
  {
   "cell_type": "code",
   "execution_count": 21,
   "id": "22fea230",
   "metadata": {},
   "outputs": [
    {
     "data": {
      "text/plain": [
       "Ttest_indResult(statistic=-1.5378037422592814, pvalue=0.12425494914461453)"
      ]
     },
     "execution_count": 21,
     "metadata": {},
     "output_type": "execute_result"
    }
   ],
   "source": [
    "stats.ttest_ind(pref_R,pref_L)"
   ]
  },
  {
   "cell_type": "code",
   "execution_count": 40,
   "id": "0e2d937d",
   "metadata": {},
   "outputs": [],
   "source": [
    "# pval=0.12\n",
    "# sig lvl=0.05\n",
    "# pval>sig lvl\n",
    "# Ho is selected \n",
    "# preferred foot has no impact on potential."
   ]
  },
  {
   "cell_type": "markdown",
   "id": "2948e3b8",
   "metadata": {},
   "source": [
    "#### d)\tPerform the statistical test to identify the relation between the overall rating and potential. [Assume both are continuous data points].\n"
   ]
  },
  {
   "cell_type": "code",
   "execution_count": 43,
   "id": "eaed3bc6",
   "metadata": {},
   "outputs": [],
   "source": [
    "overall_rating =df[\"Overall_rating\"]\n",
    "potential=df[\"Potential\"]"
   ]
  },
  {
   "cell_type": "code",
   "execution_count": 45,
   "id": "cd2ae070",
   "metadata": {},
   "outputs": [],
   "source": [
    "# Ho: mean of the overall rating equal to potential.(no relation or no effact between overall ratings and potential)\n",
    "# Ha: mean of the overall rating not equal to potential.( relation or  effact between overall ratings and potential)"
   ]
  },
  {
   "cell_type": "code",
   "execution_count": 44,
   "id": "49faf079",
   "metadata": {},
   "outputs": [
    {
     "data": {
      "text/plain": [
       "(0.7326945574179996, 0.0)"
      ]
     },
     "execution_count": 44,
     "metadata": {},
     "output_type": "execute_result"
    }
   ],
   "source": [
    "stats.pearsonr(overall_rating,potential)"
   ]
  },
  {
   "cell_type": "code",
   "execution_count": 47,
   "id": "99a3fc53",
   "metadata": {},
   "outputs": [],
   "source": [
    "# pval=0.0\n",
    "# sig lvl=0.05\n",
    "# pval<sig lvl\n",
    "# Ho is rejected and Ha is selected\n",
    "# pearson test of correlation = +ve \n",
    "# so there are relation between overall rating and potential\n",
    "# so there are positively correlated relation between the overall rating and potential."
   ]
  },
  {
   "cell_type": "markdown",
   "id": "c77de42d",
   "metadata": {},
   "source": [
    "#### e)\tDoes skill move have any effect in overall rating? Perform the graphical analysis and the statistical analysis.\n"
   ]
  },
  {
   "cell_type": "code",
   "execution_count": 50,
   "id": "50b7d925",
   "metadata": {},
   "outputs": [],
   "source": [
    "skill_move =df[\"Skill Moves\"]\n",
    "overall_rating=df[\"Overall_rating\"]"
   ]
  },
  {
   "cell_type": "code",
   "execution_count": 49,
   "id": "c2e18398",
   "metadata": {},
   "outputs": [],
   "source": [
    "# Ho: mean of the skill moves equal to overall ratings.(no relation or no effact between overall ratings and potential)\n",
    "# Ha: mean of the skill moves not equal to overall rating.( relation or  effact between overall ratings and potential)"
   ]
  },
  {
   "cell_type": "code",
   "execution_count": 51,
   "id": "8a7ba215",
   "metadata": {},
   "outputs": [
    {
     "data": {
      "text/plain": [
       "(0.08159348248403268, 0.0002594145569635645)"
      ]
     },
     "execution_count": 51,
     "metadata": {},
     "output_type": "execute_result"
    }
   ],
   "source": [
    "stats.pearsonr(skill_move,overall_rating)"
   ]
  },
  {
   "cell_type": "code",
   "execution_count": 47,
   "id": "a54746d3",
   "metadata": {},
   "outputs": [],
   "source": [
    "# pval=0.002\n",
    "# sig lvl=0.05\n",
    "# pval<sig lvl\n",
    "# Ho is rejected and Ha is selected\n",
    "# pearson test of correlation = +ve \n",
    "# so there are relation between overall rating and potential\n",
    "# so there are positively correlated relation between the overall rating and potential."
   ]
  },
  {
   "cell_type": "code",
   "execution_count": 168,
   "id": "ef195429",
   "metadata": {},
   "outputs": [
    {
     "data": {
      "text/plain": [
       "<AxesSubplot:>"
      ]
     },
     "execution_count": 168,
     "metadata": {},
     "output_type": "execute_result"
    },
    {
     "data": {
      "image/png": "[encoded data removed]",
      "text/plain": [
       "<Figure size 432x288 with 2 Axes>"
      ]
     },
     "metadata": {
      "needs_background": "light"
     },
     "output_type": "display_data"
    }
   ],
   "source": [
    "sns.heatmap(df.corr(), annot=True)"
   ]
  },
  {
   "cell_type": "code",
   "execution_count": 53,
   "id": "f280b40a",
   "metadata": {},
   "outputs": [],
   "source": [
    "# so above graphical analysis we can see that the correlation between skill moves and overall ratings is 0.082."
   ]
  },
  {
   "cell_type": "markdown",
   "id": "5565c512",
   "metadata": {},
   "source": [
    "#### Note: \n",
    "###### 1) Perform all the Statistical analysis with 5% (Significance level). \n",
    "###### 2) Assume all the features are normally distributed and have equal variance.\n"
   ]
  },
  {
   "cell_type": "markdown",
   "id": "8f429536",
   "metadata": {},
   "source": [
    "### 2. Perform the following statistical analysis on the mobile network dataset given. The given data set contains information about the internet, calls, and messages of various network. Data Cleaning and basic EDA process needs to be performed. \n"
   ]
  },
  {
   "cell_type": "code",
   "execution_count": 141,
   "id": "e248ad56",
   "metadata": {},
   "outputs": [
    {
     "data": {
      "text/html": [
       "<div>\n",
       "<style scoped>\n",
       "    .dataframe tbody tr th:only-of-type {\n",
       "        vertical-align: middle;\n",
       "    }\n",
       "\n",
       "    .dataframe tbody tr th {\n",
       "        vertical-align: top;\n",
       "    }\n",
       "\n",
       "    .dataframe thead th {\n",
       "        text-align: right;\n",
       "    }\n",
       "</style>\n",
       "<table border=\"1\" class=\"dataframe\">\n",
       "  <thead>\n",
       "    <tr style=\"text-align: right;\">\n",
       "      <th></th>\n",
       "      <th>date</th>\n",
       "      <th>duration</th>\n",
       "      <th>item</th>\n",
       "      <th>month</th>\n",
       "      <th>network</th>\n",
       "      <th>network_type</th>\n",
       "    </tr>\n",
       "  </thead>\n",
       "  <tbody>\n",
       "    <tr>\n",
       "      <th>0</th>\n",
       "      <td>15-10-14 6:58</td>\n",
       "      <td>221.321120</td>\n",
       "      <td>data</td>\n",
       "      <td>2014-11</td>\n",
       "      <td>data</td>\n",
       "      <td>data</td>\n",
       "    </tr>\n",
       "    <tr>\n",
       "      <th>1</th>\n",
       "      <td>15-10-14 6:58</td>\n",
       "      <td>81.610599</td>\n",
       "      <td>call</td>\n",
       "      <td>2014-11</td>\n",
       "      <td>Vodafone</td>\n",
       "      <td>mobile</td>\n",
       "    </tr>\n",
       "    <tr>\n",
       "      <th>2</th>\n",
       "      <td>15-10-14 14:46</td>\n",
       "      <td>143.109111</td>\n",
       "      <td>call</td>\n",
       "      <td>2014-11</td>\n",
       "      <td>Meteor</td>\n",
       "      <td>mobile</td>\n",
       "    </tr>\n",
       "    <tr>\n",
       "      <th>3</th>\n",
       "      <td>15-10-14 14:48</td>\n",
       "      <td>111.888670</td>\n",
       "      <td>call</td>\n",
       "      <td>2014-11</td>\n",
       "      <td>Tesco</td>\n",
       "      <td>mobile</td>\n",
       "    </tr>\n",
       "    <tr>\n",
       "      <th>4</th>\n",
       "      <td>15-10-14 17:27</td>\n",
       "      <td>246.695171</td>\n",
       "      <td>call</td>\n",
       "      <td>2014-11</td>\n",
       "      <td>Tesco</td>\n",
       "      <td>mobile</td>\n",
       "    </tr>\n",
       "  </tbody>\n",
       "</table>\n",
       "</div>"
      ],
      "text/plain": [
       "             date    duration  item    month   network network_type\n",
       "0   15-10-14 6:58  221.321120  data  2014-11      data         data\n",
       "1   15-10-14 6:58   81.610599  call  2014-11  Vodafone       mobile\n",
       "2  15-10-14 14:46  143.109111  call  2014-11    Meteor       mobile\n",
       "3  15-10-14 14:48  111.888670  call  2014-11     Tesco       mobile\n",
       "4  15-10-14 17:27  246.695171  call  2014-11     Tesco       mobile"
      ]
     },
     "execution_count": 141,
     "metadata": {},
     "output_type": "execute_result"
    }
   ],
   "source": [
    "df1=pd.read_csv(\"phone.csv\")\n",
    "df1.head()"
   ]
  },
  {
   "cell_type": "markdown",
   "id": "d840cc1f",
   "metadata": {},
   "source": [
    "#### a) With 95% & 99% Confidence Interval, find the range estimate of average duration calls made by the entire network. Which of the Intervals are wider? Interpret the results."
   ]
  },
  {
   "cell_type": "code",
   "execution_count": 57,
   "id": "015badc9",
   "metadata": {},
   "outputs": [],
   "source": [
    "x=df1[\"duration\"]"
   ]
  },
  {
   "cell_type": "code",
   "execution_count": 58,
   "id": "86d432ff",
   "metadata": {},
   "outputs": [
    {
     "name": "stdout",
     "output_type": "stream",
     "text": [
      "141.1796896491396 147.43018147053132\n"
     ]
    }
   ],
   "source": [
    "# for 95% confidence interval\n",
    "\n",
    "x_bar=np.mean(x)\n",
    "std=np.std(x)\n",
    "n=len(x)\n",
    "z=1.96\n",
    "LL=x_bar-(z*std)/np.sqrt(n)\n",
    "UL=x_bar+(z*std)/np.sqrt(n)\n",
    "print(LL,UL)\n"
   ]
  },
  {
   "cell_type": "code",
   "execution_count": 60,
   "id": "4928dee6",
   "metadata": {},
   "outputs": [],
   "source": [
    "# so for 95% confidence interval the range estimation of avg duration calls is 141.17 to 147.43."
   ]
  },
  {
   "cell_type": "code",
   "execution_count": 59,
   "id": "68f2df31",
   "metadata": {},
   "outputs": [
    {
     "name": "stdout",
     "output_type": "stream",
     "text": [
      "140.19109145289906 148.41877966677185\n"
     ]
    }
   ],
   "source": [
    "# for 99% confidence interval\n",
    "x_bar=np.mean(x)\n",
    "std=np.std(x)\n",
    "n=len(x)\n",
    "z=2.58\n",
    "LL=x_bar-(z*std)/np.sqrt(n)\n",
    "UL=x_bar+(z*std)/np.sqrt(n)\n",
    "print(LL,UL)\n"
   ]
  },
  {
   "cell_type": "code",
   "execution_count": 61,
   "id": "a04417ee",
   "metadata": {},
   "outputs": [],
   "source": [
    "# so for 99% confidence interval the range estimation of avg duration calls is 140.19 to 148.41."
   ]
  },
  {
   "cell_type": "code",
   "execution_count": null,
   "id": "c7f8b3ac",
   "metadata": {},
   "outputs": [],
   "source": [
    "# Interpretaion:\n",
    "# So 99% confidence interval the intervals are wider as compare to 95% confidence interval."
   ]
  },
  {
   "cell_type": "markdown",
   "id": "e5582b11",
   "metadata": {},
   "source": [
    "#### b) Perform statistical analysis to check whether the networks are equally distributed in the dataset."
   ]
  },
  {
   "cell_type": "code",
   "execution_count": 148,
   "id": "80993d3d",
   "metadata": {},
   "outputs": [],
   "source": [
    "# Ho: networks are equally distributed\n",
    "# Ha: networks are not equally distributed"
   ]
  },
  {
   "cell_type": "code",
   "execution_count": 146,
   "id": "160881b7",
   "metadata": {},
   "outputs": [],
   "source": [
    "obs=df1[\"network\"].value_counts()"
   ]
  },
  {
   "cell_type": "code",
   "execution_count": 145,
   "id": "c1dba44b",
   "metadata": {},
   "outputs": [],
   "source": [
    "exp=df1[\"network\"].value_counts().mean()"
   ]
  },
  {
   "cell_type": "code",
   "execution_count": 142,
   "id": "01593974",
   "metadata": {},
   "outputs": [],
   "source": [
    "obs=df1[\"network\"]"
   ]
  },
  {
   "cell_type": "code",
   "execution_count": 147,
   "id": "1ecab8db",
   "metadata": {},
   "outputs": [
    {
     "data": {
      "text/plain": [
       "Power_divergenceResult(statistic=307.409756097561, pvalue=2.112592760257685e-63)"
      ]
     },
     "execution_count": 147,
     "metadata": {},
     "output_type": "execute_result"
    }
   ],
   "source": [
    "stats.chisquare(f_obs=obs,f_exp=exp)"
   ]
  },
  {
   "cell_type": "code",
   "execution_count": 149,
   "id": "13bf7832",
   "metadata": {},
   "outputs": [],
   "source": [
    "# pval=0\n",
    "# sig lvl=0.05\n",
    "# pval< sig lvl\n",
    "# Ho is rejected and Ha is selected\n",
    "# networks are not equally distributed"
   ]
  },
  {
   "cell_type": "markdown",
   "id": "d298d4da",
   "metadata": {},
   "source": [
    "#### c) Plot the distribution of duration with respect to each network in the same graph and interpret the results from the graph."
   ]
  },
  {
   "cell_type": "code",
   "execution_count": 85,
   "id": "7ac861f2",
   "metadata": {},
   "outputs": [
    {
     "data": {
      "text/plain": [
       "network\n",
       "Meteor       AxesSubplot(0.125,0.125;0.775x0.755)\n",
       "Tesco        AxesSubplot(0.125,0.125;0.775x0.755)\n",
       "Three        AxesSubplot(0.125,0.125;0.775x0.755)\n",
       "Vodafone     AxesSubplot(0.125,0.125;0.775x0.755)\n",
       "data         AxesSubplot(0.125,0.125;0.775x0.755)\n",
       "landline     AxesSubplot(0.125,0.125;0.775x0.755)\n",
       "voicemail    AxesSubplot(0.125,0.125;0.775x0.755)\n",
       "Name: duration, dtype: object"
      ]
     },
     "execution_count": 85,
     "metadata": {},
     "output_type": "execute_result"
    },
    {
     "data": {
      "image/png": "[encoded data removed]",
      "text/plain": [
       "<Figure size 432x288 with 1 Axes>"
      ]
     },
     "metadata": {
      "needs_background": "light"
     },
     "output_type": "display_data"
    }
   ],
   "source": [
    "df1.groupby(df1[\"network\"])[\"duration\"].plot(kind=\"density\")"
   ]
  },
  {
   "cell_type": "code",
   "execution_count": 110,
   "id": "0849bf45",
   "metadata": {},
   "outputs": [],
   "source": [
    "# Interpretation:\n",
    "# using this graph we can conclude that,all the mean duration of each network are equal that means there is no relation between item\n",
    "# i.e mu1=mu2=mu3=.....=mu7"
   ]
  },
  {
   "cell_type": "markdown",
   "id": "480f2afa",
   "metadata": {},
   "source": [
    "#### d)\tPerform statistical tests to identify the relation between item and duration. Detailed explanation of relation between the classes is required."
   ]
  },
  {
   "cell_type": "code",
   "execution_count": 93,
   "id": "5a7e5ef3",
   "metadata": {},
   "outputs": [
    {
     "data": {
      "text/plain": [
       "call    388\n",
       "sms     282\n",
       "data    150\n",
       "Name: item, dtype: int64"
      ]
     },
     "execution_count": 93,
     "metadata": {},
     "output_type": "execute_result"
    }
   ],
   "source": [
    "df1[\"item\"].value_counts()"
   ]
  },
  {
   "cell_type": "code",
   "execution_count": 94,
   "id": "e7243be5",
   "metadata": {},
   "outputs": [],
   "source": [
    "item_call=df1[df1[\"item\"]==\"call\"][\"duration\"]\n",
    "item_sms=df1[df1[\"item\"]==\"sms\"][\"duration\"]\n",
    "item_data=df1[df1[\"item\"]==\"data\"][\"duration\"]"
   ]
  },
  {
   "cell_type": "code",
   "execution_count": 99,
   "id": "e3fd3938",
   "metadata": {},
   "outputs": [],
   "source": [
    "# Ho: All the mean item are equal(no relation or no effact between item and duration )\n",
    "# Ha: Atleat one of the mean item are not equal(realtion or effact between item and duration )"
   ]
  },
  {
   "cell_type": "code",
   "execution_count": 109,
   "id": "129190e8",
   "metadata": {},
   "outputs": [],
   "source": [
    "# selection of test- one way Anova test"
   ]
  },
  {
   "cell_type": "code",
   "execution_count": 95,
   "id": "c1d822a1",
   "metadata": {},
   "outputs": [
    {
     "data": {
      "text/plain": [
       "F_onewayResult(statistic=1.9313964906864995, pvalue=0.1456068656611744)"
      ]
     },
     "execution_count": 95,
     "metadata": {},
     "output_type": "execute_result"
    }
   ],
   "source": [
    "stats.f_oneway(item_call,item_sms,item_data)"
   ]
  },
  {
   "cell_type": "code",
   "execution_count": 101,
   "id": "fcd88a2d",
   "metadata": {},
   "outputs": [],
   "source": [
    "# pval=0.14\n",
    "# sig lvl=0.05\n",
    "# pval>sig lvl\n",
    "# Ho is selected\n",
    "# so there are no any realtionship between item and duration."
   ]
  },
  {
   "cell_type": "markdown",
   "id": "e01c924d",
   "metadata": {},
   "source": [
    "#### e)\tPerform statistical tests to identify the relation between network and network_type. "
   ]
  },
  {
   "cell_type": "code",
   "execution_count": 103,
   "id": "e2f4ac6e",
   "metadata": {},
   "outputs": [
    {
     "data": {
      "text/html": [
       "<div>\n",
       "<style scoped>\n",
       "    .dataframe tbody tr th:only-of-type {\n",
       "        vertical-align: middle;\n",
       "    }\n",
       "\n",
       "    .dataframe tbody tr th {\n",
       "        vertical-align: top;\n",
       "    }\n",
       "\n",
       "    .dataframe thead th {\n",
       "        text-align: right;\n",
       "    }\n",
       "</style>\n",
       "<table border=\"1\" class=\"dataframe\">\n",
       "  <thead>\n",
       "    <tr style=\"text-align: right;\">\n",
       "      <th>network_type</th>\n",
       "      <th>data</th>\n",
       "      <th>landline</th>\n",
       "      <th>mobile</th>\n",
       "      <th>voicemail</th>\n",
       "    </tr>\n",
       "    <tr>\n",
       "      <th>network</th>\n",
       "      <th></th>\n",
       "      <th></th>\n",
       "      <th></th>\n",
       "      <th></th>\n",
       "    </tr>\n",
       "  </thead>\n",
       "  <tbody>\n",
       "    <tr>\n",
       "      <th>Meteor</th>\n",
       "      <td>0</td>\n",
       "      <td>0</td>\n",
       "      <td>87</td>\n",
       "      <td>0</td>\n",
       "    </tr>\n",
       "    <tr>\n",
       "      <th>Tesco</th>\n",
       "      <td>0</td>\n",
       "      <td>0</td>\n",
       "      <td>84</td>\n",
       "      <td>0</td>\n",
       "    </tr>\n",
       "    <tr>\n",
       "      <th>Three</th>\n",
       "      <td>0</td>\n",
       "      <td>0</td>\n",
       "      <td>215</td>\n",
       "      <td>0</td>\n",
       "    </tr>\n",
       "    <tr>\n",
       "      <th>Vodafone</th>\n",
       "      <td>0</td>\n",
       "      <td>0</td>\n",
       "      <td>215</td>\n",
       "      <td>0</td>\n",
       "    </tr>\n",
       "    <tr>\n",
       "      <th>data</th>\n",
       "      <td>150</td>\n",
       "      <td>0</td>\n",
       "      <td>0</td>\n",
       "      <td>0</td>\n",
       "    </tr>\n",
       "    <tr>\n",
       "      <th>landline</th>\n",
       "      <td>0</td>\n",
       "      <td>42</td>\n",
       "      <td>0</td>\n",
       "      <td>0</td>\n",
       "    </tr>\n",
       "    <tr>\n",
       "      <th>voicemail</th>\n",
       "      <td>0</td>\n",
       "      <td>0</td>\n",
       "      <td>0</td>\n",
       "      <td>27</td>\n",
       "    </tr>\n",
       "  </tbody>\n",
       "</table>\n",
       "</div>"
      ],
      "text/plain": [
       "network_type  data  landline  mobile  voicemail\n",
       "network                                        \n",
       "Meteor           0         0      87          0\n",
       "Tesco            0         0      84          0\n",
       "Three            0         0     215          0\n",
       "Vodafone         0         0     215          0\n",
       "data           150         0       0          0\n",
       "landline         0        42       0          0\n",
       "voicemail        0         0       0         27"
      ]
     },
     "execution_count": 103,
     "metadata": {},
     "output_type": "execute_result"
    }
   ],
   "source": [
    "obs=pd.crosstab(df1[\"network\"],df1[\"network_type\"])\n",
    "obs"
   ]
  },
  {
   "cell_type": "code",
   "execution_count": 105,
   "id": "155028a3",
   "metadata": {},
   "outputs": [],
   "source": [
    "# Ho: Two categorical columns are not dependent(no relation or no effact)\n",
    "# Ha: Two categorical columns are dependent(relation or effact)"
   ]
  },
  {
   "cell_type": "code",
   "execution_count": 106,
   "id": "0cc4f7a0",
   "metadata": {},
   "outputs": [],
   "source": [
    "# selection of test- the test of indepaendent of attribute."
   ]
  },
  {
   "cell_type": "code",
   "execution_count": 104,
   "id": "733da8ec",
   "metadata": {},
   "outputs": [
    {
     "data": {
      "text/plain": [
       "(2460.0,\n",
       " 0.0,\n",
       " 18,\n",
       " array([[ 15.91463415,   4.45609756,  63.76463415,   2.86463415],\n",
       "        [ 15.36585366,   4.30243902,  61.56585366,   2.76585366],\n",
       "        [ 39.32926829,  11.01219512, 157.57926829,   7.07926829],\n",
       "        [ 39.32926829,  11.01219512, 157.57926829,   7.07926829],\n",
       "        [ 27.43902439,   7.68292683, 109.93902439,   4.93902439],\n",
       "        [  7.68292683,   2.15121951,  30.78292683,   1.38292683],\n",
       "        [  4.93902439,   1.38292683,  19.78902439,   0.88902439]]))"
      ]
     },
     "execution_count": 104,
     "metadata": {},
     "output_type": "execute_result"
    }
   ],
   "source": [
    "stats.chi2_contingency(obs)"
   ]
  },
  {
   "cell_type": "code",
   "execution_count": 107,
   "id": "c215be8b",
   "metadata": {},
   "outputs": [],
   "source": [
    "# pval=0\n",
    "# sig lvl=0.05\n",
    "# pval< sig lvl\n",
    "# Ho is rejected and Ha is selected \n",
    "# Two categorical columns are dependent."
   ]
  },
  {
   "cell_type": "markdown",
   "id": "917d7a60",
   "metadata": {},
   "source": [
    "#### Note: \n",
    "#### 1) Perform all the Statistical analysis with 5% (Significance level). \n",
    "#### 2) Perform the test of normality and test of variance in the appropriate places.\n"
   ]
  }
 ],
 "metadata": {
  "kernelspec": {
   "display_name": "Python 3",
   "language": "python",
   "name": "python3"
  },
  "language_info": {
   "codemirror_mode": {
    "name": "ipython",
    "version": 3
   },
   "file_extension": ".py",
   "mimetype": "text/x-python",
   "name": "python",
   "nbconvert_exporter": "python",
   "pygments_lexer": "ipython3",
   "version": "3.8.8"
  }
 },
 "nbformat": 4,
 "nbformat_minor": 5
}
